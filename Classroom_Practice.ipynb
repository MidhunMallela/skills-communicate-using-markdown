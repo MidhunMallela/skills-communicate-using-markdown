{
  "nbformat": 4,
  "nbformat_minor": 0,
  "metadata": {
    "colab": {
      "provenance": [],
      "authorship_tag": "ABX9TyMmLMu1cycoCjbhuJQCD0Vb",
      "include_colab_link": true
    },
    "kernelspec": {
      "name": "python3",
      "display_name": "Python 3"
    },
    "language_info": {
      "name": "python"
    }
  },
  "cells": [
    {
      "cell_type": "markdown",
      "metadata": {
        "id": "view-in-github",
        "colab_type": "text"
      },
      "source": [
        "<a href=\"https://colab.research.google.com/github/MidhunMallela/skills-communicate-using-markdown/blob/main/Classroom_Practice.ipynb\" target=\"_parent\"><img src=\"https://colab.research.google.com/assets/colab-badge.svg\" alt=\"Open In Colab\"/></a>"
      ]
    },
    {
      "cell_type": "code",
      "execution_count": 5,
      "metadata": {
        "colab": {
          "base_uri": "https://localhost:8080/"
        },
        "id": "_M6T0NfJeY4A",
        "outputId": "84f66862-1750-4e78-8db8-70a638ba4757"
      },
      "outputs": [
        {
          "output_type": "stream",
          "name": "stdout",
          "text": [
            "['electricity', 123, 'room rent', 34, 'utilities', 234]\n"
          ]
        }
      ],
      "source": [
        "#Create a list of monthly expenses\n",
        "monthly_expenses = ['electricity', 123, 'room rent', 34, 'utilities', 234]\n",
        "#Print the list\n",
        "print(monthly_expenses)"
      ]
    },
    {
      "cell_type": "code",
      "source": [
        "#Create a list of mixed data\n",
        "mixed_list = [123, 1.245, 'midhun', True]\n",
        "#Print the mixed_data list\n",
        "print(mixed_list)"
      ],
      "metadata": {
        "colab": {
          "base_uri": "https://localhost:8080/"
        },
        "id": "GEqUvKn_ehWg",
        "outputId": "877a2708-fe0b-454a-a36b-8f4d2a44f7ec"
      },
      "execution_count": 7,
      "outputs": [
        {
          "output_type": "stream",
          "name": "stdout",
          "text": [
            "[123, 1.245, 'midhun', True]\n"
          ]
        }
      ]
    },
    {
      "cell_type": "code",
      "source": [
        "#Create a list of lists\n",
        "Student_records = [['Alice', 18, [85, 92, 78]], ['Charlie', 20, [78,85,92]]]\n",
        "#Print Student_records\n",
        "print(Student_records[1])\n",
        "#print the inner list\n",
        "print(Student_records[1][0])\n",
        "#print the individual elements in individual lists\n",
        "print(Student_records[0][2][1])"
      ],
      "metadata": {
        "colab": {
          "base_uri": "https://localhost:8080/"
        },
        "id": "74ysmWWrf_R2",
        "outputId": "87cefbdf-813e-45f7-bbc9-2bf3eceb76b3"
      },
      "execution_count": 28,
      "outputs": [
        {
          "output_type": "stream",
          "name": "stdout",
          "text": [
            "['Charlie', 20, [78, 85, 92]]\n",
            "Charlie\n",
            "92\n"
          ]
        }
      ]
    },
    {
      "cell_type": "code",
      "source": [
        "#Subsetting and Slicing Lists\n",
        "my_numbers = [10,20,30,40,50,60]\n",
        "#print third number in list\n",
        "print(my_numbers[2])\n",
        "#slicing the lists to get 2nd to 5th numbers\n",
        "print(my_numbers[1:5])\n",
        "#slice the list to get alternate number starting from the first\n",
        "#(alternate method to print alternate numbers) alternate_numbers = my_numbers[::2]\n",
        "#print(alternate_numbers[::2])\n",
        "print(my_numbers[1::2])"
      ],
      "metadata": {
        "colab": {
          "base_uri": "https://localhost:8080/"
        },
        "id": "LxFsKzgUhTHu",
        "outputId": "1b48f8fe-f36f-4fe9-e30c-3549a35648f6"
      },
      "execution_count": 20,
      "outputs": [
        {
          "output_type": "stream",
          "name": "stdout",
          "text": [
            "30\n",
            "[20, 30, 40, 50]\n",
            "[10, 30, 50]\n",
            "[20, 40, 60]\n"
          ]
        }
      ]
    },
    {
      "cell_type": "code",
      "source": [
        "#Replace, extend and delete list elements\n",
        "fruits = ['apple', 'banana', 'cherry', 'date']\n",
        "#Replacing cherry with grape\n",
        "replace = fruits\n",
        "replace[2] = 'grape'\n",
        "#printing replaced list\n",
        "print(fruits)\n",
        "#adding extra elements to list\n",
        "fruits += ['kiwi', 'mango']\n",
        "print(fruits)\n",
        "#Deleting elements in list\n",
        "del fruits[1]\n",
        "#printing deleted fruits\n",
        "print(fruits)"
      ],
      "metadata": {
        "colab": {
          "base_uri": "https://localhost:8080/"
        },
        "id": "mQ9D8wazjXWQ",
        "outputId": "1265c62c-20ef-4502-8cfd-612bdfd95014"
      },
      "execution_count": 24,
      "outputs": [
        {
          "output_type": "stream",
          "name": "stdout",
          "text": [
            "['apple', 'banana', 'grape', 'date']\n",
            "['apple', 'banana', 'grape', 'date', 'kiwi', 'mango']\n",
            "['apple', 'grape', 'date', 'kiwi', 'mango']\n"
          ]
        }
      ]
    },
    {
      "cell_type": "code",
      "source": [
        "#Understanding list indexing\n",
        "#creating sampling list\n",
        "sample_list = ['cricket', 'football', 'hockey', 23456, 'badminton', 4.879]\n",
        "#printing last element using negative index\n",
        "print(sample_list[-1])\n",
        "#creating a copy_list to sample_list we can use any of it\n",
        "#copy_list = list(sample_list)\n",
        "copy_list = sample_list[:]\n",
        "copy_list[2] = 90\n",
        "print(sample_list)\n",
        "print(copy_list)"
      ],
      "metadata": {
        "colab": {
          "base_uri": "https://localhost:8080/"
        },
        "id": "teV1ForiksKJ",
        "outputId": "cc949e08-f851-4eae-b35e-e5a63212179c"
      },
      "execution_count": 26,
      "outputs": [
        {
          "output_type": "stream",
          "name": "stdout",
          "text": [
            "4.879\n",
            "['cricket', 'football', 'hockey', 23456, 'badminton', 4.879]\n",
            "['cricket', 'football', 90, 23456, 'badminton', 4.879]\n"
          ]
        }
      ]
    }
  ]
}